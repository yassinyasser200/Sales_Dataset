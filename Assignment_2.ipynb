{
 "cells": [
  {
   "cell_type": "markdown",
   "id": "b2c938c7-5255-4935-b53f-c4c5d29d2083",
   "metadata": {},
   "source": [
    "# Importing pandas "
   ]
  },
  {
   "cell_type": "code",
   "execution_count": 59,
   "id": "39fe71f5-c5cf-4359-8880-34690ebb968f",
   "metadata": {},
   "outputs": [],
   "source": [
    "import pandas as pd"
   ]
  },
  {
   "cell_type": "markdown",
   "id": "324581a8-176c-4f3a-8f81-c71417b8eaf0",
   "metadata": {},
   "source": [
    "# Reading Data"
   ]
  },
  {
   "cell_type": "code",
   "execution_count": 60,
   "id": "1e4b0bf1-b16d-401f-bd64-ae13307665fd",
   "metadata": {},
   "outputs": [],
   "source": [
    "data = pd.read_csv(\"PQ_Data.csv\")"
   ]
  },
  {
   "cell_type": "markdown",
   "id": "8829b005-54a6-42c3-a66a-915d299a388e",
   "metadata": {},
   "source": [
    "### Dispalying the first 5 columns"
   ]
  },
  {
   "cell_type": "code",
   "execution_count": 61,
   "id": "15b3ccc7-3de9-4c81-88e5-02f221d7cc0e",
   "metadata": {},
   "outputs": [
    {
     "data": {
      "text/html": [
       "<div>\n",
       "<style scoped>\n",
       "    .dataframe tbody tr th:only-of-type {\n",
       "        vertical-align: middle;\n",
       "    }\n",
       "\n",
       "    .dataframe tbody tr th {\n",
       "        vertical-align: top;\n",
       "    }\n",
       "\n",
       "    .dataframe thead th {\n",
       "        text-align: right;\n",
       "    }\n",
       "</style>\n",
       "<table border=\"1\" class=\"dataframe\">\n",
       "  <thead>\n",
       "    <tr style=\"text-align: right;\">\n",
       "      <th></th>\n",
       "      <th>Date</th>\n",
       "      <th>Customer Age</th>\n",
       "      <th>Customer Gender</th>\n",
       "      <th>Country</th>\n",
       "      <th>State</th>\n",
       "      <th>Product Category</th>\n",
       "      <th>Sub Category</th>\n",
       "      <th>Quantity</th>\n",
       "      <th>Unit Cost</th>\n",
       "      <th>Unit Price</th>\n",
       "    </tr>\n",
       "  </thead>\n",
       "  <tbody>\n",
       "    <tr>\n",
       "      <th>0</th>\n",
       "      <td>2/19/2016</td>\n",
       "      <td>29</td>\n",
       "      <td>F</td>\n",
       "      <td>United States</td>\n",
       "      <td>Washington</td>\n",
       "      <td>Accessories</td>\n",
       "      <td>Tires and Tubes</td>\n",
       "      <td>1</td>\n",
       "      <td>$80</td>\n",
       "      <td>$109</td>\n",
       "    </tr>\n",
       "    <tr>\n",
       "      <th>1</th>\n",
       "      <td>2/20/2016</td>\n",
       "      <td>29</td>\n",
       "      <td>F</td>\n",
       "      <td>United States</td>\n",
       "      <td>Washington</td>\n",
       "      <td>Clothing</td>\n",
       "      <td>Gloves</td>\n",
       "      <td>2</td>\n",
       "      <td>$25</td>\n",
       "      <td>$29</td>\n",
       "    </tr>\n",
       "    <tr>\n",
       "      <th>2</th>\n",
       "      <td>2/27/2016</td>\n",
       "      <td>29</td>\n",
       "      <td>F</td>\n",
       "      <td>United States</td>\n",
       "      <td>Washington</td>\n",
       "      <td>Accessories</td>\n",
       "      <td>Tires and Tubes</td>\n",
       "      <td>3</td>\n",
       "      <td>$4</td>\n",
       "      <td>$5</td>\n",
       "    </tr>\n",
       "    <tr>\n",
       "      <th>3</th>\n",
       "      <td>3/12/2016</td>\n",
       "      <td>29</td>\n",
       "      <td>F</td>\n",
       "      <td>United States</td>\n",
       "      <td>Washington</td>\n",
       "      <td>Accessories</td>\n",
       "      <td>Tires and Tubes</td>\n",
       "      <td>3</td>\n",
       "      <td>$88</td>\n",
       "      <td>$117</td>\n",
       "    </tr>\n",
       "    <tr>\n",
       "      <th>4</th>\n",
       "      <td>3/12/2016</td>\n",
       "      <td>29</td>\n",
       "      <td>F</td>\n",
       "      <td>United States</td>\n",
       "      <td>Washington</td>\n",
       "      <td>Accessories</td>\n",
       "      <td>Tires and Tubes</td>\n",
       "      <td>3</td>\n",
       "      <td>$35</td>\n",
       "      <td>$42</td>\n",
       "    </tr>\n",
       "  </tbody>\n",
       "</table>\n",
       "</div>"
      ],
      "text/plain": [
       "        Date  Customer Age Customer Gender        Country       State  \\\n",
       "0  2/19/2016            29               F  United States  Washington   \n",
       "1  2/20/2016            29               F  United States  Washington   \n",
       "2  2/27/2016            29               F  United States  Washington   \n",
       "3  3/12/2016            29               F  United States  Washington   \n",
       "4  3/12/2016            29               F  United States  Washington   \n",
       "\n",
       "  Product Category     Sub Category  Quantity Unit Cost Unit Price  \n",
       "0      Accessories  Tires and Tubes         1      $80       $109   \n",
       "1         Clothing           Gloves         2      $25        $29   \n",
       "2      Accessories  Tires and Tubes         3       $4         $5   \n",
       "3      Accessories  Tires and Tubes         3      $88       $117   \n",
       "4      Accessories  Tires and Tubes         3      $35        $42   "
      ]
     },
     "execution_count": 61,
     "metadata": {},
     "output_type": "execute_result"
    }
   ],
   "source": [
    "data.head()"
   ]
  },
  {
   "cell_type": "raw",
   "id": "c36dec4c-952c-445c-8f80-0e26628d79a7",
   "metadata": {},
   "source": [
    "The column's names are clear and meaningful "
   ]
  },
  {
   "cell_type": "markdown",
   "id": "884a168b-93d6-4bba-a162-ec834d88bb42",
   "metadata": {},
   "source": [
    "### Checking the dtypes"
   ]
  },
  {
   "cell_type": "code",
   "execution_count": 62,
   "id": "112bcc23-7134-4262-a3ca-205901950f2e",
   "metadata": {},
   "outputs": [
    {
     "name": "stdout",
     "output_type": "stream",
     "text": [
      "<class 'pandas.core.frame.DataFrame'>\n",
      "RangeIndex: 34865 entries, 0 to 34864\n",
      "Data columns (total 10 columns):\n",
      " #   Column            Non-Null Count  Dtype \n",
      "---  ------            --------------  ----- \n",
      " 0   Date              34865 non-null  object\n",
      " 1   Customer Age      34865 non-null  int64 \n",
      " 2   Customer Gender   34865 non-null  object\n",
      " 3   Country           34865 non-null  object\n",
      " 4   State             34865 non-null  object\n",
      " 5   Product Category  34865 non-null  object\n",
      " 6   Sub Category      34865 non-null  object\n",
      " 7   Quantity          34865 non-null  int64 \n",
      " 8   Unit Cost         34865 non-null  object\n",
      " 9   Unit Price        34865 non-null  object\n",
      "dtypes: int64(2), object(8)\n",
      "memory usage: 2.7+ MB\n"
     ]
    }
   ],
   "source": [
    "data.info()"
   ]
  },
  {
   "cell_type": "raw",
   "id": "8916e1e3-6234-4a1b-a5fd-f19b2b5a98f7",
   "metadata": {},
   "source": [
    "The datatypes of some columns needs to be changed from (object -> int) like in (Unit_Cost & Unit_Price) "
   ]
  },
  {
   "cell_type": "markdown",
   "id": "7c11828b-b6f8-40d1-8f1a-3a4c20cec57d",
   "metadata": {},
   "source": [
    "# Data Cleaning "
   ]
  },
  {
   "cell_type": "markdown",
   "id": "6f37fc67-0e4e-4dea-8a47-5ba39254e0c7",
   "metadata": {},
   "source": [
    "### Check there is no null "
   ]
  },
  {
   "cell_type": "code",
   "execution_count": 63,
   "id": "8ed66f17-ec18-4e9c-bf3a-b4555cd25ba6",
   "metadata": {},
   "outputs": [
    {
     "name": "stdout",
     "output_type": "stream",
     "text": [
      "<class 'pandas.core.frame.DataFrame'>\n",
      "RangeIndex: 34865 entries, 0 to 34864\n",
      "Data columns (total 10 columns):\n",
      " #   Column            Non-Null Count  Dtype \n",
      "---  ------            --------------  ----- \n",
      " 0   Date              34865 non-null  object\n",
      " 1   Customer Age      34865 non-null  int64 \n",
      " 2   Customer Gender   34865 non-null  object\n",
      " 3   Country           34865 non-null  object\n",
      " 4   State             34865 non-null  object\n",
      " 5   Product Category  34865 non-null  object\n",
      " 6   Sub Category      34865 non-null  object\n",
      " 7   Quantity          34865 non-null  int64 \n",
      " 8   Unit Cost         34865 non-null  object\n",
      " 9   Unit Price        34865 non-null  object\n",
      "dtypes: int64(2), object(8)\n",
      "memory usage: 2.7+ MB\n"
     ]
    }
   ],
   "source": [
    "data.info()"
   ]
  },
  {
   "cell_type": "raw",
   "id": "73dd3e4e-bf53-408a-a016-1667f95e0bd0",
   "metadata": {},
   "source": [
    "there is no null all fields are field "
   ]
  },
  {
   "cell_type": "markdown",
   "id": "e49ca516-6d53-4170-b4c6-9f12d45a08af",
   "metadata": {},
   "source": [
    "### Changing the datatypes"
   ]
  },
  {
   "cell_type": "code",
   "execution_count": 64,
   "id": "d16d962c-c197-4a93-a6c5-fc79e8606b02",
   "metadata": {},
   "outputs": [],
   "source": [
    "data.Date = pd.to_datetime(data.Date)"
   ]
  },
  {
   "cell_type": "markdown",
   "id": "15a20ec2-1c17-4032-b583-5087473c5302",
   "metadata": {},
   "source": [
    "#### Removing the str objects from the data to change the dtype"
   ]
  },
  {
   "cell_type": "code",
   "execution_count": 65,
   "id": "6dcc80be-ddb9-4d95-9398-1506df085da4",
   "metadata": {},
   "outputs": [],
   "source": [
    "data[\"Unit Cost\"] = data[\"Unit Cost\"].str.replace(\"$\",\"\").str.replace(\",\",\"\")"
   ]
  },
  {
   "cell_type": "raw",
   "id": "eb3fa2e5-a15d-4a9b-bce8-a678276ce4ea",
   "metadata": {},
   "source": [
    "if we didn't write (.str) nothing is going to change because your \"Unit Cost\" column in data is a Pandas Series of strings (dtype: object), not a single string "
   ]
  },
  {
   "cell_type": "code",
   "execution_count": 66,
   "id": "c4a53c07-f3b9-4c59-b10c-98644f795019",
   "metadata": {},
   "outputs": [],
   "source": [
    "data[\"Unit Price\"] = data[\"Unit Price\"].str.replace(\"$\",\"\").str.replace(\",\",\"\")"
   ]
  },
  {
   "cell_type": "markdown",
   "id": "958810e0-1917-45fd-a299-c22449a3056d",
   "metadata": {},
   "source": [
    "#### Changing the dtype to int "
   ]
  },
  {
   "cell_type": "code",
   "execution_count": 67,
   "id": "51f5abc9-bc12-4518-b88b-8d178961ff58",
   "metadata": {},
   "outputs": [],
   "source": [
    "data[\"Unit Cost\"] = data[\"Unit Cost\"].astype(\"int\")"
   ]
  },
  {
   "cell_type": "code",
   "execution_count": 68,
   "id": "220c5300-ab10-44bc-8e16-b21f4dd8d063",
   "metadata": {},
   "outputs": [],
   "source": [
    "data[\"Unit Price\"] = data[\"Unit Price\"].astype(\"int\")"
   ]
  },
  {
   "cell_type": "markdown",
   "id": "070b7503-7535-4220-8ab8-09958832ccfa",
   "metadata": {},
   "source": [
    "#### Display the data after changes"
   ]
  },
  {
   "cell_type": "code",
   "execution_count": 69,
   "id": "9c4ac96b-2e72-4b7a-b4c0-dbb69a68df8b",
   "metadata": {},
   "outputs": [
    {
     "name": "stdout",
     "output_type": "stream",
     "text": [
      "<class 'pandas.core.frame.DataFrame'>\n",
      "RangeIndex: 34865 entries, 0 to 34864\n",
      "Data columns (total 10 columns):\n",
      " #   Column            Non-Null Count  Dtype         \n",
      "---  ------            --------------  -----         \n",
      " 0   Date              34865 non-null  datetime64[ns]\n",
      " 1   Customer Age      34865 non-null  int64         \n",
      " 2   Customer Gender   34865 non-null  object        \n",
      " 3   Country           34865 non-null  object        \n",
      " 4   State             34865 non-null  object        \n",
      " 5   Product Category  34865 non-null  object        \n",
      " 6   Sub Category      34865 non-null  object        \n",
      " 7   Quantity          34865 non-null  int64         \n",
      " 8   Unit Cost         34865 non-null  int64         \n",
      " 9   Unit Price        34865 non-null  int64         \n",
      "dtypes: datetime64[ns](1), int64(4), object(5)\n",
      "memory usage: 2.7+ MB\n"
     ]
    }
   ],
   "source": [
    "data.info()"
   ]
  },
  {
   "cell_type": "markdown",
   "id": "e17c2d10-5a17-4f94-b02f-ec9052058414",
   "metadata": {},
   "source": [
    "### Checking for duplicated items"
   ]
  },
  {
   "cell_type": "code",
   "execution_count": 70,
   "id": "23f5149f-b7ab-4861-87cb-508c3833536d",
   "metadata": {},
   "outputs": [
    {
     "data": {
      "text/plain": [
       "np.int64(4)"
      ]
     },
     "execution_count": 70,
     "metadata": {},
     "output_type": "execute_result"
    }
   ],
   "source": [
    "data.duplicated().sum()"
   ]
  },
  {
   "cell_type": "raw",
   "id": "eed4fe30-8c25-4549-884a-256082fc9fd4",
   "metadata": {},
   "source": [
    "there are 4 duplicated cells"
   ]
  },
  {
   "cell_type": "markdown",
   "id": "1079976b-31b3-49bc-85cd-a91179eab8aa",
   "metadata": {},
   "source": [
    "#### Removing duplicated cells"
   ]
  },
  {
   "cell_type": "code",
   "execution_count": 71,
   "id": "dcb3b64b-5117-41dc-b32d-d42c247360af",
   "metadata": {},
   "outputs": [
    {
     "data": {
      "text/html": [
       "<div>\n",
       "<style scoped>\n",
       "    .dataframe tbody tr th:only-of-type {\n",
       "        vertical-align: middle;\n",
       "    }\n",
       "\n",
       "    .dataframe tbody tr th {\n",
       "        vertical-align: top;\n",
       "    }\n",
       "\n",
       "    .dataframe thead th {\n",
       "        text-align: right;\n",
       "    }\n",
       "</style>\n",
       "<table border=\"1\" class=\"dataframe\">\n",
       "  <thead>\n",
       "    <tr style=\"text-align: right;\">\n",
       "      <th></th>\n",
       "      <th>Date</th>\n",
       "      <th>Customer Age</th>\n",
       "      <th>Customer Gender</th>\n",
       "      <th>Country</th>\n",
       "      <th>State</th>\n",
       "      <th>Product Category</th>\n",
       "      <th>Sub Category</th>\n",
       "      <th>Quantity</th>\n",
       "      <th>Unit Cost</th>\n",
       "      <th>Unit Price</th>\n",
       "    </tr>\n",
       "  </thead>\n",
       "  <tbody>\n",
       "    <tr>\n",
       "      <th>18340</th>\n",
       "      <td>2016-04-16</td>\n",
       "      <td>18</td>\n",
       "      <td>M</td>\n",
       "      <td>France</td>\n",
       "      <td>Seine (Paris)</td>\n",
       "      <td>Accessories</td>\n",
       "      <td>Tires and Tubes</td>\n",
       "      <td>2</td>\n",
       "      <td>12</td>\n",
       "      <td>18</td>\n",
       "    </tr>\n",
       "    <tr>\n",
       "      <th>28289</th>\n",
       "      <td>2015-08-08</td>\n",
       "      <td>30</td>\n",
       "      <td>F</td>\n",
       "      <td>United States</td>\n",
       "      <td>California</td>\n",
       "      <td>Accessories</td>\n",
       "      <td>Tires and Tubes</td>\n",
       "      <td>2</td>\n",
       "      <td>20</td>\n",
       "      <td>22</td>\n",
       "    </tr>\n",
       "    <tr>\n",
       "      <th>31095</th>\n",
       "      <td>2015-12-13</td>\n",
       "      <td>27</td>\n",
       "      <td>M</td>\n",
       "      <td>United States</td>\n",
       "      <td>California</td>\n",
       "      <td>Accessories</td>\n",
       "      <td>Bottles and Cages</td>\n",
       "      <td>3</td>\n",
       "      <td>18</td>\n",
       "      <td>19</td>\n",
       "    </tr>\n",
       "    <tr>\n",
       "      <th>33087</th>\n",
       "      <td>2015-08-31</td>\n",
       "      <td>33</td>\n",
       "      <td>F</td>\n",
       "      <td>Germany</td>\n",
       "      <td>Nordrhein-Westfalen</td>\n",
       "      <td>Accessories</td>\n",
       "      <td>Tires and Tubes</td>\n",
       "      <td>3</td>\n",
       "      <td>9</td>\n",
       "      <td>12</td>\n",
       "    </tr>\n",
       "  </tbody>\n",
       "</table>\n",
       "</div>"
      ],
      "text/plain": [
       "            Date  Customer Age Customer Gender        Country  \\\n",
       "18340 2016-04-16            18               M         France   \n",
       "28289 2015-08-08            30               F  United States   \n",
       "31095 2015-12-13            27               M  United States   \n",
       "33087 2015-08-31            33               F        Germany   \n",
       "\n",
       "                     State Product Category       Sub Category  Quantity  \\\n",
       "18340        Seine (Paris)      Accessories    Tires and Tubes         2   \n",
       "28289           California      Accessories    Tires and Tubes         2   \n",
       "31095           California      Accessories  Bottles and Cages         3   \n",
       "33087  Nordrhein-Westfalen      Accessories    Tires and Tubes         3   \n",
       "\n",
       "       Unit Cost  Unit Price  \n",
       "18340         12          18  \n",
       "28289         20          22  \n",
       "31095         18          19  \n",
       "33087          9          12  "
      ]
     },
     "execution_count": 71,
     "metadata": {},
     "output_type": "execute_result"
    }
   ],
   "source": [
    "data[data.duplicated() == True]"
   ]
  },
  {
   "cell_type": "markdown",
   "id": "0ffe43f6-c730-42d8-b64c-55c82be0c50a",
   "metadata": {},
   "source": [
    "##### Storing the duplicated data for later "
   ]
  },
  {
   "cell_type": "code",
   "execution_count": 72,
   "id": "3de343c7-2ab0-450e-9f3e-a55388c7c101",
   "metadata": {},
   "outputs": [],
   "source": [
    "duplicated_data = data[data.duplicated() == True]"
   ]
  },
  {
   "cell_type": "code",
   "execution_count": 73,
   "id": "83b4d2af-b41a-4f85-ab95-be4d9907b3dd",
   "metadata": {},
   "outputs": [
    {
     "data": {
      "text/html": [
       "<div>\n",
       "<style scoped>\n",
       "    .dataframe tbody tr th:only-of-type {\n",
       "        vertical-align: middle;\n",
       "    }\n",
       "\n",
       "    .dataframe tbody tr th {\n",
       "        vertical-align: top;\n",
       "    }\n",
       "\n",
       "    .dataframe thead th {\n",
       "        text-align: right;\n",
       "    }\n",
       "</style>\n",
       "<table border=\"1\" class=\"dataframe\">\n",
       "  <thead>\n",
       "    <tr style=\"text-align: right;\">\n",
       "      <th></th>\n",
       "      <th>Date</th>\n",
       "      <th>Customer Age</th>\n",
       "      <th>Customer Gender</th>\n",
       "      <th>Country</th>\n",
       "      <th>State</th>\n",
       "      <th>Product Category</th>\n",
       "      <th>Sub Category</th>\n",
       "      <th>Quantity</th>\n",
       "      <th>Unit Cost</th>\n",
       "      <th>Unit Price</th>\n",
       "    </tr>\n",
       "  </thead>\n",
       "  <tbody>\n",
       "    <tr>\n",
       "      <th>18340</th>\n",
       "      <td>2016-04-16</td>\n",
       "      <td>18</td>\n",
       "      <td>M</td>\n",
       "      <td>France</td>\n",
       "      <td>Seine (Paris)</td>\n",
       "      <td>Accessories</td>\n",
       "      <td>Tires and Tubes</td>\n",
       "      <td>2</td>\n",
       "      <td>12</td>\n",
       "      <td>18</td>\n",
       "    </tr>\n",
       "    <tr>\n",
       "      <th>28289</th>\n",
       "      <td>2015-08-08</td>\n",
       "      <td>30</td>\n",
       "      <td>F</td>\n",
       "      <td>United States</td>\n",
       "      <td>California</td>\n",
       "      <td>Accessories</td>\n",
       "      <td>Tires and Tubes</td>\n",
       "      <td>2</td>\n",
       "      <td>20</td>\n",
       "      <td>22</td>\n",
       "    </tr>\n",
       "    <tr>\n",
       "      <th>31095</th>\n",
       "      <td>2015-12-13</td>\n",
       "      <td>27</td>\n",
       "      <td>M</td>\n",
       "      <td>United States</td>\n",
       "      <td>California</td>\n",
       "      <td>Accessories</td>\n",
       "      <td>Bottles and Cages</td>\n",
       "      <td>3</td>\n",
       "      <td>18</td>\n",
       "      <td>19</td>\n",
       "    </tr>\n",
       "    <tr>\n",
       "      <th>33087</th>\n",
       "      <td>2015-08-31</td>\n",
       "      <td>33</td>\n",
       "      <td>F</td>\n",
       "      <td>Germany</td>\n",
       "      <td>Nordrhein-Westfalen</td>\n",
       "      <td>Accessories</td>\n",
       "      <td>Tires and Tubes</td>\n",
       "      <td>3</td>\n",
       "      <td>9</td>\n",
       "      <td>12</td>\n",
       "    </tr>\n",
       "  </tbody>\n",
       "</table>\n",
       "</div>"
      ],
      "text/plain": [
       "            Date  Customer Age Customer Gender        Country  \\\n",
       "18340 2016-04-16            18               M         France   \n",
       "28289 2015-08-08            30               F  United States   \n",
       "31095 2015-12-13            27               M  United States   \n",
       "33087 2015-08-31            33               F        Germany   \n",
       "\n",
       "                     State Product Category       Sub Category  Quantity  \\\n",
       "18340        Seine (Paris)      Accessories    Tires and Tubes         2   \n",
       "28289           California      Accessories    Tires and Tubes         2   \n",
       "31095           California      Accessories  Bottles and Cages         3   \n",
       "33087  Nordrhein-Westfalen      Accessories    Tires and Tubes         3   \n",
       "\n",
       "       Unit Cost  Unit Price  \n",
       "18340         12          18  \n",
       "28289         20          22  \n",
       "31095         18          19  \n",
       "33087          9          12  "
      ]
     },
     "execution_count": 73,
     "metadata": {},
     "output_type": "execute_result"
    }
   ],
   "source": [
    "duplicated_data"
   ]
  },
  {
   "cell_type": "code",
   "execution_count": 74,
   "id": "1f82ff21-2b91-4239-be92-612f4bcfe7e2",
   "metadata": {},
   "outputs": [],
   "source": [
    "data.drop_duplicates(inplace = True)"
   ]
  },
  {
   "cell_type": "markdown",
   "id": "050db813-87d7-488c-96b1-3c446f67a47f",
   "metadata": {},
   "source": [
    "# Exploring Data"
   ]
  },
  {
   "cell_type": "markdown",
   "id": "6480d3ec-cf12-4ef8-9d69-ca68e618922a",
   "metadata": {},
   "source": [
    "#### Displaying a summary"
   ]
  },
  {
   "cell_type": "code",
   "execution_count": 75,
   "id": "e3960b56-0a5c-4429-91e5-f0f7f3c771a1",
   "metadata": {},
   "outputs": [
    {
     "name": "stdout",
     "output_type": "stream",
     "text": [
      "<class 'pandas.core.frame.DataFrame'>\n",
      "Index: 34861 entries, 0 to 34864\n",
      "Data columns (total 10 columns):\n",
      " #   Column            Non-Null Count  Dtype         \n",
      "---  ------            --------------  -----         \n",
      " 0   Date              34861 non-null  datetime64[ns]\n",
      " 1   Customer Age      34861 non-null  int64         \n",
      " 2   Customer Gender   34861 non-null  object        \n",
      " 3   Country           34861 non-null  object        \n",
      " 4   State             34861 non-null  object        \n",
      " 5   Product Category  34861 non-null  object        \n",
      " 6   Sub Category      34861 non-null  object        \n",
      " 7   Quantity          34861 non-null  int64         \n",
      " 8   Unit Cost         34861 non-null  int64         \n",
      " 9   Unit Price        34861 non-null  int64         \n",
      "dtypes: datetime64[ns](1), int64(4), object(5)\n",
      "memory usage: 2.9+ MB\n"
     ]
    }
   ],
   "source": [
    "data.info()"
   ]
  },
  {
   "cell_type": "markdown",
   "id": "be92706c-a7de-48c0-ba44-1241131ba663",
   "metadata": {},
   "source": [
    "#### Calculating Statistics"
   ]
  },
  {
   "cell_type": "code",
   "execution_count": 76,
   "id": "e809b575-410e-4e67-9e33-d1429d5d7a6d",
   "metadata": {},
   "outputs": [
    {
     "data": {
      "text/html": [
       "<div>\n",
       "<style scoped>\n",
       "    .dataframe tbody tr th:only-of-type {\n",
       "        vertical-align: middle;\n",
       "    }\n",
       "\n",
       "    .dataframe tbody tr th {\n",
       "        vertical-align: top;\n",
       "    }\n",
       "\n",
       "    .dataframe thead th {\n",
       "        text-align: right;\n",
       "    }\n",
       "</style>\n",
       "<table border=\"1\" class=\"dataframe\">\n",
       "  <thead>\n",
       "    <tr style=\"text-align: right;\">\n",
       "      <th></th>\n",
       "      <th>Date</th>\n",
       "      <th>Customer Age</th>\n",
       "      <th>Quantity</th>\n",
       "      <th>Unit Cost</th>\n",
       "      <th>Unit Price</th>\n",
       "    </tr>\n",
       "  </thead>\n",
       "  <tbody>\n",
       "    <tr>\n",
       "      <th>count</th>\n",
       "      <td>34861</td>\n",
       "      <td>34861.000000</td>\n",
       "      <td>34861.000000</td>\n",
       "      <td>34861.000000</td>\n",
       "      <td>34861.000000</td>\n",
       "    </tr>\n",
       "    <tr>\n",
       "      <th>mean</th>\n",
       "      <td>2016-01-19 18:52:20.770488320</td>\n",
       "      <td>36.383781</td>\n",
       "      <td>2.002496</td>\n",
       "      <td>349.987321</td>\n",
       "      <td>389.368176</td>\n",
       "    </tr>\n",
       "    <tr>\n",
       "      <th>min</th>\n",
       "      <td>2015-01-01 00:00:00</td>\n",
       "      <td>17.000000</td>\n",
       "      <td>1.000000</td>\n",
       "      <td>1.000000</td>\n",
       "      <td>1.000000</td>\n",
       "    </tr>\n",
       "    <tr>\n",
       "      <th>25%</th>\n",
       "      <td>2015-10-26 00:00:00</td>\n",
       "      <td>28.000000</td>\n",
       "      <td>1.000000</td>\n",
       "      <td>45.000000</td>\n",
       "      <td>54.000000</td>\n",
       "    </tr>\n",
       "    <tr>\n",
       "      <th>50%</th>\n",
       "      <td>2016-01-28 00:00:00</td>\n",
       "      <td>35.000000</td>\n",
       "      <td>2.000000</td>\n",
       "      <td>150.000000</td>\n",
       "      <td>179.000000</td>\n",
       "    </tr>\n",
       "    <tr>\n",
       "      <th>75%</th>\n",
       "      <td>2016-04-26 00:00:00</td>\n",
       "      <td>44.000000</td>\n",
       "      <td>3.000000</td>\n",
       "      <td>455.000000</td>\n",
       "      <td>521.000000</td>\n",
       "    </tr>\n",
       "    <tr>\n",
       "      <th>max</th>\n",
       "      <td>2016-07-31 00:00:00</td>\n",
       "      <td>87.000000</td>\n",
       "      <td>3.000000</td>\n",
       "      <td>3240.000000</td>\n",
       "      <td>5082.000000</td>\n",
       "    </tr>\n",
       "    <tr>\n",
       "      <th>std</th>\n",
       "      <td>NaN</td>\n",
       "      <td>11.113025</td>\n",
       "      <td>0.813977</td>\n",
       "      <td>490.025390</td>\n",
       "      <td>525.326673</td>\n",
       "    </tr>\n",
       "  </tbody>\n",
       "</table>\n",
       "</div>"
      ],
      "text/plain": [
       "                                Date  Customer Age      Quantity  \\\n",
       "count                          34861  34861.000000  34861.000000   \n",
       "mean   2016-01-19 18:52:20.770488320     36.383781      2.002496   \n",
       "min              2015-01-01 00:00:00     17.000000      1.000000   \n",
       "25%              2015-10-26 00:00:00     28.000000      1.000000   \n",
       "50%              2016-01-28 00:00:00     35.000000      2.000000   \n",
       "75%              2016-04-26 00:00:00     44.000000      3.000000   \n",
       "max              2016-07-31 00:00:00     87.000000      3.000000   \n",
       "std                              NaN     11.113025      0.813977   \n",
       "\n",
       "          Unit Cost    Unit Price  \n",
       "count  34861.000000  34861.000000  \n",
       "mean     349.987321    389.368176  \n",
       "min        1.000000      1.000000  \n",
       "25%       45.000000     54.000000  \n",
       "50%      150.000000    179.000000  \n",
       "75%      455.000000    521.000000  \n",
       "max     3240.000000   5082.000000  \n",
       "std      490.025390    525.326673  "
      ]
     },
     "execution_count": 76,
     "metadata": {},
     "output_type": "execute_result"
    }
   ],
   "source": [
    "data.describe()"
   ]
  },
  {
   "cell_type": "raw",
   "id": "7ff13602-1292-4b3d-b01d-7df22c03e3b9",
   "metadata": {},
   "source": [
    "There are outliers in the Unit Cost and Unit Price columns"
   ]
  },
  {
   "cell_type": "markdown",
   "id": "91477b0e-2bec-4b8d-b3af-e08bf138b14d",
   "metadata": {},
   "source": [
    "#### Reviewing the unique values"
   ]
  },
  {
   "cell_type": "code",
   "execution_count": 77,
   "id": "faffd9ff-a2b2-4997-9fb4-e52888c75f00",
   "metadata": {},
   "outputs": [
    {
     "data": {
      "text/plain": [
       "array(['Accessories', 'Clothing', 'Bikes'], dtype=object)"
      ]
     },
     "execution_count": 77,
     "metadata": {},
     "output_type": "execute_result"
    }
   ],
   "source": [
    "data[\"Product Category\"].unique()"
   ]
  },
  {
   "cell_type": "code",
   "execution_count": 78,
   "id": "72d134a3-ce39-42cf-831c-4617b74ba28a",
   "metadata": {},
   "outputs": [
    {
     "data": {
      "text/plain": [
       "array(['Tires and Tubes', 'Gloves', 'Helmets', 'Bike Stands',\n",
       "       'Mountain Bikes', 'Hydration Packs', 'Jerseys', 'Fenders',\n",
       "       'Cleaners', 'Socks', 'Caps', 'Touring Bikes', 'Bottles and Cages',\n",
       "       'Vests', 'Road Bikes', 'Bike Racks', 'Shorts'], dtype=object)"
      ]
     },
     "execution_count": 78,
     "metadata": {},
     "output_type": "execute_result"
    }
   ],
   "source": [
    "data[\"Sub Category\"].unique()"
   ]
  },
  {
   "cell_type": "markdown",
   "id": "4e909bba-9d1d-4645-8eaa-52a6979b5c85",
   "metadata": {},
   "source": [
    "#### Describing all columns"
   ]
  },
  {
   "cell_type": "code",
   "execution_count": 79,
   "id": "6ad2b621-2f77-4f0e-8520-da07a5966d4d",
   "metadata": {},
   "outputs": [
    {
     "data": {
      "text/html": [
       "<div>\n",
       "<style scoped>\n",
       "    .dataframe tbody tr th:only-of-type {\n",
       "        vertical-align: middle;\n",
       "    }\n",
       "\n",
       "    .dataframe tbody tr th {\n",
       "        vertical-align: top;\n",
       "    }\n",
       "\n",
       "    .dataframe thead th {\n",
       "        text-align: right;\n",
       "    }\n",
       "</style>\n",
       "<table border=\"1\" class=\"dataframe\">\n",
       "  <thead>\n",
       "    <tr style=\"text-align: right;\">\n",
       "      <th></th>\n",
       "      <th>Date</th>\n",
       "      <th>Customer Age</th>\n",
       "      <th>Customer Gender</th>\n",
       "      <th>Country</th>\n",
       "      <th>State</th>\n",
       "      <th>Product Category</th>\n",
       "      <th>Sub Category</th>\n",
       "      <th>Quantity</th>\n",
       "      <th>Unit Cost</th>\n",
       "      <th>Unit Price</th>\n",
       "    </tr>\n",
       "  </thead>\n",
       "  <tbody>\n",
       "    <tr>\n",
       "      <th>count</th>\n",
       "      <td>34861</td>\n",
       "      <td>34861.000000</td>\n",
       "      <td>34861</td>\n",
       "      <td>34861</td>\n",
       "      <td>34861</td>\n",
       "      <td>34861</td>\n",
       "      <td>34861</td>\n",
       "      <td>34861.000000</td>\n",
       "      <td>34861.000000</td>\n",
       "      <td>34861.000000</td>\n",
       "    </tr>\n",
       "    <tr>\n",
       "      <th>unique</th>\n",
       "      <td>NaN</td>\n",
       "      <td>NaN</td>\n",
       "      <td>2</td>\n",
       "      <td>4</td>\n",
       "      <td>45</td>\n",
       "      <td>3</td>\n",
       "      <td>17</td>\n",
       "      <td>NaN</td>\n",
       "      <td>NaN</td>\n",
       "      <td>NaN</td>\n",
       "    </tr>\n",
       "    <tr>\n",
       "      <th>top</th>\n",
       "      <td>NaN</td>\n",
       "      <td>NaN</td>\n",
       "      <td>M</td>\n",
       "      <td>United States</td>\n",
       "      <td>California</td>\n",
       "      <td>Accessories</td>\n",
       "      <td>Tires and Tubes</td>\n",
       "      <td>NaN</td>\n",
       "      <td>NaN</td>\n",
       "      <td>NaN</td>\n",
       "    </tr>\n",
       "    <tr>\n",
       "      <th>freq</th>\n",
       "      <td>NaN</td>\n",
       "      <td>NaN</td>\n",
       "      <td>17803</td>\n",
       "      <td>18074</td>\n",
       "      <td>10330</td>\n",
       "      <td>22529</td>\n",
       "      <td>11109</td>\n",
       "      <td>NaN</td>\n",
       "      <td>NaN</td>\n",
       "      <td>NaN</td>\n",
       "    </tr>\n",
       "    <tr>\n",
       "      <th>mean</th>\n",
       "      <td>2016-01-19 18:52:20.770488320</td>\n",
       "      <td>36.383781</td>\n",
       "      <td>NaN</td>\n",
       "      <td>NaN</td>\n",
       "      <td>NaN</td>\n",
       "      <td>NaN</td>\n",
       "      <td>NaN</td>\n",
       "      <td>2.002496</td>\n",
       "      <td>349.987321</td>\n",
       "      <td>389.368176</td>\n",
       "    </tr>\n",
       "    <tr>\n",
       "      <th>min</th>\n",
       "      <td>2015-01-01 00:00:00</td>\n",
       "      <td>17.000000</td>\n",
       "      <td>NaN</td>\n",
       "      <td>NaN</td>\n",
       "      <td>NaN</td>\n",
       "      <td>NaN</td>\n",
       "      <td>NaN</td>\n",
       "      <td>1.000000</td>\n",
       "      <td>1.000000</td>\n",
       "      <td>1.000000</td>\n",
       "    </tr>\n",
       "    <tr>\n",
       "      <th>25%</th>\n",
       "      <td>2015-10-26 00:00:00</td>\n",
       "      <td>28.000000</td>\n",
       "      <td>NaN</td>\n",
       "      <td>NaN</td>\n",
       "      <td>NaN</td>\n",
       "      <td>NaN</td>\n",
       "      <td>NaN</td>\n",
       "      <td>1.000000</td>\n",
       "      <td>45.000000</td>\n",
       "      <td>54.000000</td>\n",
       "    </tr>\n",
       "    <tr>\n",
       "      <th>50%</th>\n",
       "      <td>2016-01-28 00:00:00</td>\n",
       "      <td>35.000000</td>\n",
       "      <td>NaN</td>\n",
       "      <td>NaN</td>\n",
       "      <td>NaN</td>\n",
       "      <td>NaN</td>\n",
       "      <td>NaN</td>\n",
       "      <td>2.000000</td>\n",
       "      <td>150.000000</td>\n",
       "      <td>179.000000</td>\n",
       "    </tr>\n",
       "    <tr>\n",
       "      <th>75%</th>\n",
       "      <td>2016-04-26 00:00:00</td>\n",
       "      <td>44.000000</td>\n",
       "      <td>NaN</td>\n",
       "      <td>NaN</td>\n",
       "      <td>NaN</td>\n",
       "      <td>NaN</td>\n",
       "      <td>NaN</td>\n",
       "      <td>3.000000</td>\n",
       "      <td>455.000000</td>\n",
       "      <td>521.000000</td>\n",
       "    </tr>\n",
       "    <tr>\n",
       "      <th>max</th>\n",
       "      <td>2016-07-31 00:00:00</td>\n",
       "      <td>87.000000</td>\n",
       "      <td>NaN</td>\n",
       "      <td>NaN</td>\n",
       "      <td>NaN</td>\n",
       "      <td>NaN</td>\n",
       "      <td>NaN</td>\n",
       "      <td>3.000000</td>\n",
       "      <td>3240.000000</td>\n",
       "      <td>5082.000000</td>\n",
       "    </tr>\n",
       "    <tr>\n",
       "      <th>std</th>\n",
       "      <td>NaN</td>\n",
       "      <td>11.113025</td>\n",
       "      <td>NaN</td>\n",
       "      <td>NaN</td>\n",
       "      <td>NaN</td>\n",
       "      <td>NaN</td>\n",
       "      <td>NaN</td>\n",
       "      <td>0.813977</td>\n",
       "      <td>490.025390</td>\n",
       "      <td>525.326673</td>\n",
       "    </tr>\n",
       "  </tbody>\n",
       "</table>\n",
       "</div>"
      ],
      "text/plain": [
       "                                 Date  Customer Age Customer Gender  \\\n",
       "count                           34861  34861.000000           34861   \n",
       "unique                            NaN           NaN               2   \n",
       "top                               NaN           NaN               M   \n",
       "freq                              NaN           NaN           17803   \n",
       "mean    2016-01-19 18:52:20.770488320     36.383781             NaN   \n",
       "min               2015-01-01 00:00:00     17.000000             NaN   \n",
       "25%               2015-10-26 00:00:00     28.000000             NaN   \n",
       "50%               2016-01-28 00:00:00     35.000000             NaN   \n",
       "75%               2016-04-26 00:00:00     44.000000             NaN   \n",
       "max               2016-07-31 00:00:00     87.000000             NaN   \n",
       "std                               NaN     11.113025             NaN   \n",
       "\n",
       "              Country       State Product Category     Sub Category  \\\n",
       "count           34861       34861            34861            34861   \n",
       "unique              4          45                3               17   \n",
       "top     United States  California      Accessories  Tires and Tubes   \n",
       "freq            18074       10330            22529            11109   \n",
       "mean              NaN         NaN              NaN              NaN   \n",
       "min               NaN         NaN              NaN              NaN   \n",
       "25%               NaN         NaN              NaN              NaN   \n",
       "50%               NaN         NaN              NaN              NaN   \n",
       "75%               NaN         NaN              NaN              NaN   \n",
       "max               NaN         NaN              NaN              NaN   \n",
       "std               NaN         NaN              NaN              NaN   \n",
       "\n",
       "            Quantity     Unit Cost    Unit Price  \n",
       "count   34861.000000  34861.000000  34861.000000  \n",
       "unique           NaN           NaN           NaN  \n",
       "top              NaN           NaN           NaN  \n",
       "freq             NaN           NaN           NaN  \n",
       "mean        2.002496    349.987321    389.368176  \n",
       "min         1.000000      1.000000      1.000000  \n",
       "25%         1.000000     45.000000     54.000000  \n",
       "50%         2.000000    150.000000    179.000000  \n",
       "75%         3.000000    455.000000    521.000000  \n",
       "max         3.000000   3240.000000   5082.000000  \n",
       "std         0.813977    490.025390    525.326673  "
      ]
     },
     "execution_count": 79,
     "metadata": {},
     "output_type": "execute_result"
    }
   ],
   "source": [
    "data.describe(include = \"all\")"
   ]
  },
  {
   "cell_type": "markdown",
   "id": "1181645c-c9cd-4ab0-b167-1dbddd3b60d7",
   "metadata": {},
   "source": [
    "#### Most ferquent values "
   ]
  },
  {
   "cell_type": "code",
   "execution_count": 80,
   "id": "5d001499-e290-4abd-848b-eac541c748c5",
   "metadata": {},
   "outputs": [
    {
     "data": {
      "text/plain": [
       "Date                2016-03-01 00:00:00\n",
       "Customer Age                         31\n",
       "Customer Gender                       M\n",
       "Country                   United States\n",
       "State                        California\n",
       "Product Category            Accessories\n",
       "Sub Category            Tires and Tubes\n",
       "Quantity                              2\n",
       "Unit Cost                           180\n",
       "Unit Price                           17\n",
       "dtype: object"
      ]
     },
     "execution_count": 80,
     "metadata": {},
     "output_type": "execute_result"
    }
   ],
   "source": [
    "data.apply(lambda col: col.value_counts().idxmax())\n"
   ]
  },
  {
   "cell_type": "markdown",
   "id": "7eb3c011-cccc-4ea4-91aa-4a6b7cfdd8b8",
   "metadata": {},
   "source": [
    "# Feature Extraction"
   ]
  },
  {
   "cell_type": "markdown",
   "id": "0492a4f0-9ff7-4f89-a2a4-be3414b317c0",
   "metadata": {},
   "source": [
    "#### Getting the Month and Year"
   ]
  },
  {
   "cell_type": "code",
   "execution_count": 81,
   "id": "83048f7d-b3dd-4278-8475-f38d55dba893",
   "metadata": {},
   "outputs": [],
   "source": [
    "data[\"Month\"] = data.Date.dt.month_name()"
   ]
  },
  {
   "cell_type": "code",
   "execution_count": 82,
   "id": "8f2f33ba-61cd-4405-997f-5bb8b76bc886",
   "metadata": {},
   "outputs": [],
   "source": [
    "data[\"Year\"] = data.Date.dt.year"
   ]
  },
  {
   "cell_type": "markdown",
   "id": "6ba70ca9-58d0-426d-b46a-90650c9b03c2",
   "metadata": {},
   "source": [
    "##### Displaying data after modifications"
   ]
  },
  {
   "cell_type": "code",
   "execution_count": 83,
   "id": "afeedc96-ae3f-4baa-8a6a-29cb2cbbb499",
   "metadata": {},
   "outputs": [
    {
     "data": {
      "text/html": [
       "<div>\n",
       "<style scoped>\n",
       "    .dataframe tbody tr th:only-of-type {\n",
       "        vertical-align: middle;\n",
       "    }\n",
       "\n",
       "    .dataframe tbody tr th {\n",
       "        vertical-align: top;\n",
       "    }\n",
       "\n",
       "    .dataframe thead th {\n",
       "        text-align: right;\n",
       "    }\n",
       "</style>\n",
       "<table border=\"1\" class=\"dataframe\">\n",
       "  <thead>\n",
       "    <tr style=\"text-align: right;\">\n",
       "      <th></th>\n",
       "      <th>Date</th>\n",
       "      <th>Customer Age</th>\n",
       "      <th>Customer Gender</th>\n",
       "      <th>Country</th>\n",
       "      <th>State</th>\n",
       "      <th>Product Category</th>\n",
       "      <th>Sub Category</th>\n",
       "      <th>Quantity</th>\n",
       "      <th>Unit Cost</th>\n",
       "      <th>Unit Price</th>\n",
       "      <th>Month</th>\n",
       "      <th>Year</th>\n",
       "    </tr>\n",
       "  </thead>\n",
       "  <tbody>\n",
       "    <tr>\n",
       "      <th>29197</th>\n",
       "      <td>2016-06-24</td>\n",
       "      <td>52</td>\n",
       "      <td>F</td>\n",
       "      <td>United States</td>\n",
       "      <td>Oregon</td>\n",
       "      <td>Accessories</td>\n",
       "      <td>Tires and Tubes</td>\n",
       "      <td>1</td>\n",
       "      <td>780</td>\n",
       "      <td>926</td>\n",
       "      <td>June</td>\n",
       "      <td>2016</td>\n",
       "    </tr>\n",
       "  </tbody>\n",
       "</table>\n",
       "</div>"
      ],
      "text/plain": [
       "            Date  Customer Age Customer Gender        Country   State  \\\n",
       "29197 2016-06-24            52               F  United States  Oregon   \n",
       "\n",
       "      Product Category     Sub Category  Quantity  Unit Cost  Unit Price  \\\n",
       "29197      Accessories  Tires and Tubes         1        780         926   \n",
       "\n",
       "      Month  Year  \n",
       "29197  June  2016  "
      ]
     },
     "execution_count": 83,
     "metadata": {},
     "output_type": "execute_result"
    }
   ],
   "source": [
    "data.sample()"
   ]
  },
  {
   "cell_type": "markdown",
   "id": "5268443a-7655-4571-a3cd-17e037b16fe3",
   "metadata": {},
   "source": [
    "#### Adding (Total Revenue , Total Cost , Profit)"
   ]
  },
  {
   "cell_type": "code",
   "execution_count": 84,
   "id": "b2a1b38b-f8b9-44fe-b7c5-25b859b73a10",
   "metadata": {},
   "outputs": [],
   "source": [
    "data[\"Total Revenue\"] = data[\"Quantity\"] * data[\"Unit Price\"]"
   ]
  },
  {
   "cell_type": "code",
   "execution_count": 85,
   "id": "d3bddbcf-a8b0-4fa4-87d9-59af1a964215",
   "metadata": {},
   "outputs": [],
   "source": [
    "data[\"Total Cost\"] = data[\"Quantity\"] * data[\"Unit Cost\"]"
   ]
  },
  {
   "cell_type": "code",
   "execution_count": 86,
   "id": "8c0f72d7-4640-4561-9506-67e4cca5d484",
   "metadata": {},
   "outputs": [],
   "source": [
    "data[\"Profit\"] = data[\"Total Revenue\"] - data[\"Total Cost\"]"
   ]
  },
  {
   "cell_type": "markdown",
   "id": "e6dc840a-c410-4140-93bd-c90c298bc988",
   "metadata": {},
   "source": [
    "##### Data after modifications "
   ]
  },
  {
   "cell_type": "code",
   "execution_count": 87,
   "id": "cfc61a9d-96dd-462d-ad8c-2c6dc72c8185",
   "metadata": {},
   "outputs": [
    {
     "data": {
      "text/html": [
       "<div>\n",
       "<style scoped>\n",
       "    .dataframe tbody tr th:only-of-type {\n",
       "        vertical-align: middle;\n",
       "    }\n",
       "\n",
       "    .dataframe tbody tr th {\n",
       "        vertical-align: top;\n",
       "    }\n",
       "\n",
       "    .dataframe thead th {\n",
       "        text-align: right;\n",
       "    }\n",
       "</style>\n",
       "<table border=\"1\" class=\"dataframe\">\n",
       "  <thead>\n",
       "    <tr style=\"text-align: right;\">\n",
       "      <th></th>\n",
       "      <th>Date</th>\n",
       "      <th>Customer Age</th>\n",
       "      <th>Customer Gender</th>\n",
       "      <th>Country</th>\n",
       "      <th>State</th>\n",
       "      <th>Product Category</th>\n",
       "      <th>Sub Category</th>\n",
       "      <th>Quantity</th>\n",
       "      <th>Unit Cost</th>\n",
       "      <th>Unit Price</th>\n",
       "      <th>Month</th>\n",
       "      <th>Year</th>\n",
       "      <th>Total Revenue</th>\n",
       "      <th>Total Cost</th>\n",
       "      <th>Profit</th>\n",
       "    </tr>\n",
       "  </thead>\n",
       "  <tbody>\n",
       "    <tr>\n",
       "      <th>22164</th>\n",
       "      <td>2016-01-28</td>\n",
       "      <td>35</td>\n",
       "      <td>M</td>\n",
       "      <td>United States</td>\n",
       "      <td>California</td>\n",
       "      <td>Bikes</td>\n",
       "      <td>Road Bikes</td>\n",
       "      <td>1</td>\n",
       "      <td>1120</td>\n",
       "      <td>1202</td>\n",
       "      <td>January</td>\n",
       "      <td>2016</td>\n",
       "      <td>1202</td>\n",
       "      <td>1120</td>\n",
       "      <td>82</td>\n",
       "    </tr>\n",
       "  </tbody>\n",
       "</table>\n",
       "</div>"
      ],
      "text/plain": [
       "            Date  Customer Age Customer Gender        Country       State  \\\n",
       "22164 2016-01-28            35               M  United States  California   \n",
       "\n",
       "      Product Category Sub Category  Quantity  Unit Cost  Unit Price    Month  \\\n",
       "22164            Bikes   Road Bikes         1       1120        1202  January   \n",
       "\n",
       "       Year  Total Revenue  Total Cost  Profit  \n",
       "22164  2016           1202        1120      82  "
      ]
     },
     "execution_count": 87,
     "metadata": {},
     "output_type": "execute_result"
    }
   ],
   "source": [
    "data.sample()"
   ]
  },
  {
   "cell_type": "markdown",
   "id": "54db8457-e2c4-46da-9356-9d6e3997d7e9",
   "metadata": {},
   "source": [
    "#### Adding Profit Categories "
   ]
  },
  {
   "cell_type": "code",
   "execution_count": 88,
   "id": "01ee0243-69e7-45cf-86d7-5117ee0d5eb4",
   "metadata": {},
   "outputs": [],
   "source": [
    "def Profit_Category (value):\n",
    "    if(value > 0):\n",
    "        return \"Positive\"\n",
    "    elif(value < 0):\n",
    "        return \"Negative\"\n",
    "    else:\n",
    "        return \"Break Even\""
   ]
  },
  {
   "cell_type": "raw",
   "id": "846a1058-0f56-4113-a1dd-ab45ffddb52b",
   "metadata": {},
   "source": [
    "Checking first"
   ]
  },
  {
   "cell_type": "code",
   "execution_count": 89,
   "id": "fd6fa5dc-15a0-4c97-b8b3-8965804bb4c1",
   "metadata": {},
   "outputs": [
    {
     "data": {
      "text/plain": [
       "'Positive'"
      ]
     },
     "execution_count": 89,
     "metadata": {},
     "output_type": "execute_result"
    }
   ],
   "source": [
    "Profit_Category(100)"
   ]
  },
  {
   "cell_type": "code",
   "execution_count": 90,
   "id": "574bb5ca-cef5-4c8f-b7c9-3f4a3adb9936",
   "metadata": {},
   "outputs": [],
   "source": [
    "data[\"Profit Category\"] = data.Profit.apply(Profit_Category)"
   ]
  },
  {
   "cell_type": "code",
   "execution_count": 91,
   "id": "d15bad86-07bd-4b99-9e78-e760ac84e617",
   "metadata": {},
   "outputs": [
    {
     "data": {
      "text/html": [
       "<div>\n",
       "<style scoped>\n",
       "    .dataframe tbody tr th:only-of-type {\n",
       "        vertical-align: middle;\n",
       "    }\n",
       "\n",
       "    .dataframe tbody tr th {\n",
       "        vertical-align: top;\n",
       "    }\n",
       "\n",
       "    .dataframe thead th {\n",
       "        text-align: right;\n",
       "    }\n",
       "</style>\n",
       "<table border=\"1\" class=\"dataframe\">\n",
       "  <thead>\n",
       "    <tr style=\"text-align: right;\">\n",
       "      <th></th>\n",
       "      <th>Date</th>\n",
       "      <th>Customer Age</th>\n",
       "      <th>Customer Gender</th>\n",
       "      <th>Country</th>\n",
       "      <th>State</th>\n",
       "      <th>Product Category</th>\n",
       "      <th>Sub Category</th>\n",
       "      <th>Quantity</th>\n",
       "      <th>Unit Cost</th>\n",
       "      <th>Unit Price</th>\n",
       "      <th>Month</th>\n",
       "      <th>Year</th>\n",
       "      <th>Total Revenue</th>\n",
       "      <th>Total Cost</th>\n",
       "      <th>Profit</th>\n",
       "      <th>Profit Category</th>\n",
       "    </tr>\n",
       "  </thead>\n",
       "  <tbody>\n",
       "    <tr>\n",
       "      <th>34753</th>\n",
       "      <td>2016-03-10</td>\n",
       "      <td>23</td>\n",
       "      <td>M</td>\n",
       "      <td>United Kingdom</td>\n",
       "      <td>England</td>\n",
       "      <td>Accessories</td>\n",
       "      <td>Tires and Tubes</td>\n",
       "      <td>1</td>\n",
       "      <td>60</td>\n",
       "      <td>78</td>\n",
       "      <td>March</td>\n",
       "      <td>2016</td>\n",
       "      <td>78</td>\n",
       "      <td>60</td>\n",
       "      <td>18</td>\n",
       "      <td>Positive</td>\n",
       "    </tr>\n",
       "  </tbody>\n",
       "</table>\n",
       "</div>"
      ],
      "text/plain": [
       "            Date  Customer Age Customer Gender         Country    State  \\\n",
       "34753 2016-03-10            23               M  United Kingdom  England   \n",
       "\n",
       "      Product Category     Sub Category  Quantity  Unit Cost  Unit Price  \\\n",
       "34753      Accessories  Tires and Tubes         1         60          78   \n",
       "\n",
       "       Month  Year  Total Revenue  Total Cost  Profit Profit Category  \n",
       "34753  March  2016             78          60      18        Positive  "
      ]
     },
     "execution_count": 91,
     "metadata": {},
     "output_type": "execute_result"
    }
   ],
   "source": [
    "data.sample()"
   ]
  },
  {
   "cell_type": "markdown",
   "id": "f6c05e45-2e01-4080-a7dd-e8a8bbb8dd08",
   "metadata": {},
   "source": [
    "# 🔹 Data Analysis Using the Following Questions\n"
   ]
  },
  {
   "cell_type": "raw",
   "id": "bb7aeb4f-fd87-4ad8-b384-0278767b22d6",
   "metadata": {},
   "source": [
    "1️⃣ How many records (rows) are in the dataset?\n",
    "   There are 34865"
   ]
  },
  {
   "cell_type": "raw",
   "id": "0623344b-2d6c-4928-b0c0-4444da8d17af",
   "metadata": {
    "jupyter": {
     "source_hidden": true
    }
   },
   "source": [
    "2️⃣ What is the total revenue (Total Revenue)?\n",
    "   It's the total price of an order and it's equal (Total Revenue = Quantity * Unit Price)"
   ]
  },
  {
   "cell_type": "raw",
   "id": "6fb92e7f-a142-4bf8-9ef0-3f87bee28830",
   "metadata": {},
   "source": [
    "3️⃣ What is the average selling price (Unit Price)?\n",
    "    The average is equal 389.368176"
   ]
  },
  {
   "cell_type": "raw",
   "id": "cffd33dd-4d05-4ec1-b391-5c0c051f0a49",
   "metadata": {},
   "source": [
    "4️⃣ Which sub-category (Sub Category) has the highest sales?\n",
    "    It's (Tires and Tubes)"
   ]
  },
  {
   "cell_type": "raw",
   "id": "2271dffc-b698-42d6-bd0e-f2be2aa74e6f",
   "metadata": {},
   "source": [
    "5️⃣ What is the highest profit achieved?\n",
    "    using the following code its 1842"
   ]
  },
  {
   "cell_type": "code",
   "execution_count": 92,
   "id": "6f753c69-411f-4a5f-81d5-06bfaea3509a",
   "metadata": {},
   "outputs": [
    {
     "data": {
      "text/html": [
       "<div>\n",
       "<style scoped>\n",
       "    .dataframe tbody tr th:only-of-type {\n",
       "        vertical-align: middle;\n",
       "    }\n",
       "\n",
       "    .dataframe tbody tr th {\n",
       "        vertical-align: top;\n",
       "    }\n",
       "\n",
       "    .dataframe thead th {\n",
       "        text-align: right;\n",
       "    }\n",
       "</style>\n",
       "<table border=\"1\" class=\"dataframe\">\n",
       "  <thead>\n",
       "    <tr style=\"text-align: right;\">\n",
       "      <th></th>\n",
       "      <th>Date</th>\n",
       "      <th>Customer Age</th>\n",
       "      <th>Customer Gender</th>\n",
       "      <th>Country</th>\n",
       "      <th>State</th>\n",
       "      <th>Product Category</th>\n",
       "      <th>Sub Category</th>\n",
       "      <th>Quantity</th>\n",
       "      <th>Unit Cost</th>\n",
       "      <th>Unit Price</th>\n",
       "      <th>Month</th>\n",
       "      <th>Year</th>\n",
       "      <th>Total Revenue</th>\n",
       "      <th>Total Cost</th>\n",
       "      <th>Profit</th>\n",
       "      <th>Profit Category</th>\n",
       "    </tr>\n",
       "  </thead>\n",
       "  <tbody>\n",
       "    <tr>\n",
       "      <th>7402</th>\n",
       "      <td>2016-07-12</td>\n",
       "      <td>50</td>\n",
       "      <td>M</td>\n",
       "      <td>Germany</td>\n",
       "      <td>Hessen</td>\n",
       "      <td>Accessories</td>\n",
       "      <td>Bike Racks</td>\n",
       "      <td>1</td>\n",
       "      <td>3240</td>\n",
       "      <td>5082</td>\n",
       "      <td>July</td>\n",
       "      <td>2016</td>\n",
       "      <td>5082</td>\n",
       "      <td>3240</td>\n",
       "      <td>1842</td>\n",
       "      <td>Positive</td>\n",
       "    </tr>\n",
       "  </tbody>\n",
       "</table>\n",
       "</div>"
      ],
      "text/plain": [
       "           Date  Customer Age Customer Gender  Country   State  \\\n",
       "7402 2016-07-12            50               M  Germany  Hessen   \n",
       "\n",
       "     Product Category Sub Category  Quantity  Unit Cost  Unit Price Month  \\\n",
       "7402      Accessories   Bike Racks         1       3240        5082  July   \n",
       "\n",
       "      Year  Total Revenue  Total Cost  Profit Profit Category  \n",
       "7402  2016           5082        3240    1842        Positive  "
      ]
     },
     "execution_count": 92,
     "metadata": {},
     "output_type": "execute_result"
    }
   ],
   "source": [
    "data.sort_values(by = \"Profit\" , ascending = False ).head(1)"
   ]
  },
  {
   "cell_type": "raw",
   "id": "7a1d8905-9822-4e9f-a36b-225d1b490d61",
   "metadata": {},
   "source": [
    "6️⃣ Which states generate the most revenu?\n",
    "    using the following code its (Hessen)"
   ]
  },
  {
   "cell_type": "code",
   "execution_count": 93,
   "id": "e0ff49ce-3a6e-40d6-8af0-404eb2de41ee",
   "metadata": {},
   "outputs": [
    {
     "data": {
      "text/html": [
       "<div>\n",
       "<style scoped>\n",
       "    .dataframe tbody tr th:only-of-type {\n",
       "        vertical-align: middle;\n",
       "    }\n",
       "\n",
       "    .dataframe tbody tr th {\n",
       "        vertical-align: top;\n",
       "    }\n",
       "\n",
       "    .dataframe thead th {\n",
       "        text-align: right;\n",
       "    }\n",
       "</style>\n",
       "<table border=\"1\" class=\"dataframe\">\n",
       "  <thead>\n",
       "    <tr style=\"text-align: right;\">\n",
       "      <th></th>\n",
       "      <th>Date</th>\n",
       "      <th>Customer Age</th>\n",
       "      <th>Customer Gender</th>\n",
       "      <th>Country</th>\n",
       "      <th>State</th>\n",
       "      <th>Product Category</th>\n",
       "      <th>Sub Category</th>\n",
       "      <th>Quantity</th>\n",
       "      <th>Unit Cost</th>\n",
       "      <th>Unit Price</th>\n",
       "      <th>Month</th>\n",
       "      <th>Year</th>\n",
       "      <th>Total Revenue</th>\n",
       "      <th>Total Cost</th>\n",
       "      <th>Profit</th>\n",
       "      <th>Profit Category</th>\n",
       "    </tr>\n",
       "  </thead>\n",
       "  <tbody>\n",
       "    <tr>\n",
       "      <th>7402</th>\n",
       "      <td>2016-07-12</td>\n",
       "      <td>50</td>\n",
       "      <td>M</td>\n",
       "      <td>Germany</td>\n",
       "      <td>Hessen</td>\n",
       "      <td>Accessories</td>\n",
       "      <td>Bike Racks</td>\n",
       "      <td>1</td>\n",
       "      <td>3240</td>\n",
       "      <td>5082</td>\n",
       "      <td>July</td>\n",
       "      <td>2016</td>\n",
       "      <td>5082</td>\n",
       "      <td>3240</td>\n",
       "      <td>1842</td>\n",
       "      <td>Positive</td>\n",
       "    </tr>\n",
       "  </tbody>\n",
       "</table>\n",
       "</div>"
      ],
      "text/plain": [
       "           Date  Customer Age Customer Gender  Country   State  \\\n",
       "7402 2016-07-12            50               M  Germany  Hessen   \n",
       "\n",
       "     Product Category Sub Category  Quantity  Unit Cost  Unit Price Month  \\\n",
       "7402      Accessories   Bike Racks         1       3240        5082  July   \n",
       "\n",
       "      Year  Total Revenue  Total Cost  Profit Profit Category  \n",
       "7402  2016           5082        3240    1842        Positive  "
      ]
     },
     "execution_count": 93,
     "metadata": {},
     "output_type": "execute_result"
    }
   ],
   "source": [
    "data.sort_values(by = \"Total Revenue\" , ascending = False ).head(1)"
   ]
  },
  {
   "cell_type": "raw",
   "id": "22c61579-5766-4604-9987-44438c244ad8",
   "metadata": {},
   "source": [
    "7️⃣ How many sales were made each year?\n",
    "    "
   ]
  },
  {
   "cell_type": "code",
   "execution_count": 104,
   "id": "891ad024-76f9-40d4-b904-25cced24b1e5",
   "metadata": {},
   "outputs": [
    {
     "data": {
      "text/html": [
       "<div>\n",
       "<style scoped>\n",
       "    .dataframe tbody tr th:only-of-type {\n",
       "        vertical-align: middle;\n",
       "    }\n",
       "\n",
       "    .dataframe tbody tr th {\n",
       "        vertical-align: top;\n",
       "    }\n",
       "\n",
       "    .dataframe thead th {\n",
       "        text-align: right;\n",
       "    }\n",
       "</style>\n",
       "<table border=\"1\" class=\"dataframe\">\n",
       "  <thead>\n",
       "    <tr style=\"text-align: right;\">\n",
       "      <th></th>\n",
       "      <th>Profit</th>\n",
       "      <th>Total Cost</th>\n",
       "      <th>Total Revenue</th>\n",
       "    </tr>\n",
       "    <tr>\n",
       "      <th>Year</th>\n",
       "      <th></th>\n",
       "      <th></th>\n",
       "      <th></th>\n",
       "    </tr>\n",
       "  </thead>\n",
       "  <tbody>\n",
       "    <tr>\n",
       "      <th>2015</th>\n",
       "      <td>289367</td>\n",
       "      <td>9660704</td>\n",
       "      <td>9950071</td>\n",
       "    </tr>\n",
       "    <tr>\n",
       "      <th>2016</th>\n",
       "      <td>1974112</td>\n",
       "      <td>10426004</td>\n",
       "      <td>12400116</td>\n",
       "    </tr>\n",
       "  </tbody>\n",
       "</table>\n",
       "</div>"
      ],
      "text/plain": [
       "       Profit  Total Cost  Total Revenue\n",
       "Year                                    \n",
       "2015   289367     9660704        9950071\n",
       "2016  1974112    10426004       12400116"
      ]
     },
     "execution_count": 104,
     "metadata": {},
     "output_type": "execute_result"
    }
   ],
   "source": [
    "data.pivot_table(index = [\"Year\"] , values = [\"Total Cost\" , \"Profit\" , \"Total Revenue\"], aggfunc = \"sum\")"
   ]
  },
  {
   "cell_type": "raw",
   "id": "a38d0c5c-612d-4134-9e73-dd68f5d15671",
   "metadata": {},
   "source": [
    "8️⃣ How many orders were placed for each product category (Product Category)?"
   ]
  },
  {
   "cell_type": "code",
   "execution_count": 102,
   "id": "56967951-2925-40de-82af-3a54ed9b3d51",
   "metadata": {},
   "outputs": [
    {
     "data": {
      "text/plain": [
       "Product Category\n",
       "Accessories    22529\n",
       "Bikes           7093\n",
       "Clothing        5239\n",
       "Name: count, dtype: int64"
      ]
     },
     "execution_count": 102,
     "metadata": {},
     "output_type": "execute_result"
    }
   ],
   "source": [
    "data[\"Product Category\"].value_counts()"
   ]
  },
  {
   "cell_type": "raw",
   "id": "39a3a32d-37fd-482e-8451-ec0c1a2163c3",
   "metadata": {},
   "source": [
    "9️⃣ Which category generates the most profit during different months?"
   ]
  },
  {
   "cell_type": "code",
   "execution_count": 97,
   "id": "79cb6fa1-b8bb-4963-81ed-5cf225d62d4a",
   "metadata": {},
   "outputs": [],
   "source": [
    "monthly_profit = (\n",
    "    data.groupby([\"Month\", \"Product Category\"])[\"Profit\"]\n",
    "    .sum()\n",
    "    .reset_index()\n",
    ")\n"
   ]
  },
  {
   "cell_type": "code",
   "execution_count": 98,
   "id": "cab8dfce-f520-46c1-845c-df45dad74919",
   "metadata": {},
   "outputs": [],
   "source": [
    "max_profit_per_month = monthly_profit.loc[\n",
    "    monthly_profit.groupby(\"Month\")[\"Profit\"].idxmax()\n",
    "]\n"
   ]
  },
  {
   "cell_type": "code",
   "execution_count": 99,
   "id": "a267a2ea-b333-4635-b7d3-e6cbbca1aa08",
   "metadata": {},
   "outputs": [
    {
     "name": "stdout",
     "output_type": "stream",
     "text": [
      "        Month Product Category  Profit\n",
      "0       April      Accessories  156726\n",
      "3      August      Accessories   57745\n",
      "6    December      Accessories   84684\n",
      "9    February      Accessories  141903\n",
      "12    January      Accessories  146515\n",
      "15       July      Accessories   99863\n",
      "18       June      Accessories  177029\n",
      "21      March      Accessories  154989\n",
      "24        May      Accessories  180792\n",
      "27   November      Accessories   60102\n",
      "30    October      Accessories   61247\n",
      "33  September      Accessories   57718\n"
     ]
    }
   ],
   "source": [
    "print(max_profit_per_month)\n"
   ]
  },
  {
   "cell_type": "raw",
   "id": "7c4a9724-f0f6-4f10-a1d0-7e6c6c96b462",
   "metadata": {},
   "source": [
    "🔟 Which months have the highest sales? Are there seasonal trends in sales?"
   ]
  },
  {
   "cell_type": "code",
   "execution_count": 100,
   "id": "664a3357-bd5d-4f58-b411-be1b7ee3c670",
   "metadata": {},
   "outputs": [],
   "source": [
    "monthly_sales = (\n",
    "    data.groupby(\"Month\")[\"Total Revenue\"]\n",
    "    .sum()\n",
    "    .reset_index()\n",
    ")\n"
   ]
  },
  {
   "cell_type": "code",
   "execution_count": 101,
   "id": "23562f0e-8920-42b4-be35-16df8b2e74c3",
   "metadata": {},
   "outputs": [
    {
     "name": "stdout",
     "output_type": "stream",
     "text": [
      "      Month  Total Revenue\n",
      "6      June        2682573\n",
      "8       May        2626475\n",
      "0     April        2200979\n",
      "7     March        2135963\n",
      "2  December        2116633\n"
     ]
    }
   ],
   "source": [
    "top_months = monthly_sales.sort_values(\"Total Revenue\", ascending=False)\n",
    "print(top_months.head())\n"
   ]
  },
  {
   "cell_type": "code",
   "execution_count": null,
   "id": "bb18a7d5-b138-4e3a-98b3-ea58a35597f7",
   "metadata": {},
   "outputs": [],
   "source": []
  }
 ],
 "metadata": {
  "kernelspec": {
   "display_name": "Python 3 (ipykernel)",
   "language": "python",
   "name": "python3"
  },
  "language_info": {
   "codemirror_mode": {
    "name": "ipython",
    "version": 3
   },
   "file_extension": ".py",
   "mimetype": "text/x-python",
   "name": "python",
   "nbconvert_exporter": "python",
   "pygments_lexer": "ipython3",
   "version": "3.13.5"
  }
 },
 "nbformat": 4,
 "nbformat_minor": 5
}
